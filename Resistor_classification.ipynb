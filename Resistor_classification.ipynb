{
  "nbformat": 4,
  "nbformat_minor": 0,
  "metadata": {
    "colab": {
      "provenance": [],
      "authorship_tag": "ABX9TyNJlAbV0gjG4BfhTnIS0hIS",
      "include_colab_link": true
    },
    "kernelspec": {
      "name": "python3",
      "display_name": "Python 3"
    },
    "language_info": {
      "name": "python"
    }
  },
  "cells": [
    {
      "cell_type": "markdown",
      "metadata": {
        "id": "view-in-github",
        "colab_type": "text"
      },
      "source": [
        "<a href=\"https://colab.research.google.com/github/Manju735/Resistor-AI-tool/blob/main/Resistor_classification.ipynb\" target=\"_parent\"><img src=\"https://colab.research.google.com/assets/colab-badge.svg\" alt=\"Open In Colab\"/></a>"
      ]
    },
    {
      "cell_type": "code",
      "execution_count": null,
      "metadata": {
        "id": "w-H4lq1HhWT4"
      },
      "outputs": [],
      "source": [
        "# Resistor Band Classifier AI Tool - Google Colab Ready Notebook\n",
        "# All-in-one: dataset simulation, AI model, prediction, UI\n",
        "# -------------------- Step 0: Install Libraries --------------------\n",
        "!pip install tensorflow pillow numpy matplotlib ipywidgets\n",
        "\n",
        "# -------------------- Step 1: Simulate Resistor Dataset --------------------\n",
        "from PIL import Image, ImageDraw\n",
        "import numpy as np\n",
        "import os\n",
        "\n",
        "colors = ['black','brown','red','orange','yellow','green','blue','violet','grey','white','gold','silver']\n",
        "\n",
        "# Create sample images\n",
        "os.makedirs('sample_images', exist_ok=True)\n",
        "for i, color in enumerate(colors[:4]):\n",
        "  img = Image.new('RGB', (200,50), 'grey')\n",
        "  draw = ImageDraw.Draw(img)\n",
        "  width = 200 // 5\n",
        "  for j, c in enumerate(colors[:4]):\n",
        "    draw.rectangle([j*width+20,0,(j+1)*width+20,50], fill=c)\n",
        "  img.save(f'sample_images/resistor_{i}.png')\n",
        "\n",
        "# -------------------- Step 2: Define Simple CNN Model --------------------\n",
        "from tensorflow.keras.models import Sequential\n",
        "from tensorflow.keras.layers import Conv2D, MaxPooling2D, Flatten, Dense\n",
        "\n",
        "model = Sequential([\n",
        "    Conv2D(32, (3,3), activation='relu', input_shape=(50,200,3)),\n",
        "    MaxPooling2D(2,2),\n",
        "    Flatten(),\n",
        "    Dense(64, activation='relu'),\n",
        "    Dense(10, activation='softmax')  # 10 color classes for demo\n",
        "])\n",
        "\n",
        "model.compile(optimizer='adam', loss='sparse_categorical_crossentropy', metrics=['accuracy'])\n",
        "\n",
        "# -------------------- Step 3: Prediction Function --------------------\n",
        "def predict_resistor(image, model):\n",
        "  img_array = np.array(image.resize((200,50)))/255.0\n",
        "  img_array = img_array.reshape(1,50,200,3)\n",
        "  pred = model.predict(img_array)\n",
        "  band_index = np.argmax(pred, axis=1)\n",
        "  return band_index\n",
        "\n",
        "# -------------------- Step 4: UI in Colab --------------------\n",
        "from IPython.display import display\n",
        "import ipywidgets as widgets\n",
        "import io\n",
        "\n",
        "upload = widgets.FileUpload(accept='image/*', multiple=False)\n",
        "display(upload)\n",
        "\n",
        "def on_upload_change(change):\n",
        "  for filename in upload.value:\n",
        "    content = upload.value[filename]['content']\n",
        "    img = Image.open(io.BytesIO(content))\n",
        "    img.show()\n",
        "    # pred = predict_resistor(img, model)  # Uncomment after training\n",
        "  print('Prediction function ready!')\n",
        "\n",
        "upload.observe(on_upload_change, names='value')\n",
        "\n",
        "# -------------------- Step 5: Notes --------------------\n",
        "print('Upload resistor images to test the AI model.')\n",
        "print('You can extend this notebook to train with real dataset and calculate resistor values.')"
      ]
    }
  ]
}